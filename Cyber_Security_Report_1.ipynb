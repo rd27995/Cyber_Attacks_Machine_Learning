{
 "cells": [
  {
   "cell_type": "markdown",
   "metadata": {},
   "source": [
    "# Importing the essential libraries"
   ]
  },
  {
   "cell_type": "code",
   "execution_count": 1,
   "metadata": {},
   "outputs": [
    {
     "name": "stderr",
     "output_type": "stream",
     "text": [
      "\n",
      "Bad key \"text.kerning_factor\" on line 4 in\n",
      "C:\\Users\\desh669\\AppData\\Local\\Continuum\\anaconda3\\lib\\site-packages\\matplotlib\\mpl-data\\stylelib\\_classic_test_patch.mplstyle.\n",
      "You probably need to get an updated matplotlibrc file from\n",
      "http://github.com/matplotlib/matplotlib/blob/master/matplotlibrc.template\n",
      "or from the matplotlib source distribution\n",
      "C:\\Users\\desh669\\AppData\\Local\\Continuum\\anaconda3\\lib\\site-packages\\sklearn\\utils\\deprecation.py:144: FutureWarning: The sklearn.neighbors.base module is  deprecated in version 0.22 and will be removed in version 0.24. The corresponding classes / functions should instead be imported from sklearn.neighbors. Anything that cannot be imported from sklearn.neighbors is now part of the private API.\n",
      "  warnings.warn(message, FutureWarning)\n",
      "C:\\Users\\desh669\\AppData\\Local\\Continuum\\anaconda3\\lib\\site-packages\\sklearn\\utils\\deprecation.py:144: FutureWarning: The sklearn.ensemble.bagging module is  deprecated in version 0.22 and will be removed in version 0.24. The corresponding classes / functions should instead be imported from sklearn.ensemble. Anything that cannot be imported from sklearn.ensemble is now part of the private API.\n",
      "  warnings.warn(message, FutureWarning)\n",
      "C:\\Users\\desh669\\AppData\\Local\\Continuum\\anaconda3\\lib\\site-packages\\sklearn\\utils\\deprecation.py:144: FutureWarning: The sklearn.ensemble.base module is  deprecated in version 0.22 and will be removed in version 0.24. The corresponding classes / functions should instead be imported from sklearn.ensemble. Anything that cannot be imported from sklearn.ensemble is now part of the private API.\n",
      "  warnings.warn(message, FutureWarning)\n",
      "C:\\Users\\desh669\\AppData\\Local\\Continuum\\anaconda3\\lib\\site-packages\\sklearn\\utils\\deprecation.py:144: FutureWarning: The sklearn.ensemble.forest module is  deprecated in version 0.22 and will be removed in version 0.24. The corresponding classes / functions should instead be imported from sklearn.ensemble. Anything that cannot be imported from sklearn.ensemble is now part of the private API.\n",
      "  warnings.warn(message, FutureWarning)\n",
      "Using TensorFlow backend.\n",
      "C:\\Users\\desh669\\AppData\\Local\\Continuum\\anaconda3\\lib\\site-packages\\tensorflow\\python\\framework\\dtypes.py:516: FutureWarning: Passing (type, 1) or '1type' as a synonym of type is deprecated; in a future version of numpy, it will be understood as (type, (1,)) / '(1,)type'.\n",
      "  _np_qint8 = np.dtype([(\"qint8\", np.int8, 1)])\n",
      "C:\\Users\\desh669\\AppData\\Local\\Continuum\\anaconda3\\lib\\site-packages\\tensorflow\\python\\framework\\dtypes.py:517: FutureWarning: Passing (type, 1) or '1type' as a synonym of type is deprecated; in a future version of numpy, it will be understood as (type, (1,)) / '(1,)type'.\n",
      "  _np_quint8 = np.dtype([(\"quint8\", np.uint8, 1)])\n",
      "C:\\Users\\desh669\\AppData\\Local\\Continuum\\anaconda3\\lib\\site-packages\\tensorflow\\python\\framework\\dtypes.py:518: FutureWarning: Passing (type, 1) or '1type' as a synonym of type is deprecated; in a future version of numpy, it will be understood as (type, (1,)) / '(1,)type'.\n",
      "  _np_qint16 = np.dtype([(\"qint16\", np.int16, 1)])\n",
      "C:\\Users\\desh669\\AppData\\Local\\Continuum\\anaconda3\\lib\\site-packages\\tensorflow\\python\\framework\\dtypes.py:519: FutureWarning: Passing (type, 1) or '1type' as a synonym of type is deprecated; in a future version of numpy, it will be understood as (type, (1,)) / '(1,)type'.\n",
      "  _np_quint16 = np.dtype([(\"quint16\", np.uint16, 1)])\n",
      "C:\\Users\\desh669\\AppData\\Local\\Continuum\\anaconda3\\lib\\site-packages\\tensorflow\\python\\framework\\dtypes.py:520: FutureWarning: Passing (type, 1) or '1type' as a synonym of type is deprecated; in a future version of numpy, it will be understood as (type, (1,)) / '(1,)type'.\n",
      "  _np_qint32 = np.dtype([(\"qint32\", np.int32, 1)])\n",
      "C:\\Users\\desh669\\AppData\\Local\\Continuum\\anaconda3\\lib\\site-packages\\tensorflow\\python\\framework\\dtypes.py:525: FutureWarning: Passing (type, 1) or '1type' as a synonym of type is deprecated; in a future version of numpy, it will be understood as (type, (1,)) / '(1,)type'.\n",
      "  np_resource = np.dtype([(\"resource\", np.ubyte, 1)])\n",
      "C:\\Users\\desh669\\AppData\\Local\\Continuum\\anaconda3\\lib\\site-packages\\sklearn\\utils\\deprecation.py:144: FutureWarning: The sklearn.utils.testing module is  deprecated in version 0.22 and will be removed in version 0.24. The corresponding classes / functions should instead be imported from sklearn.utils. Anything that cannot be imported from sklearn.utils is now part of the private API.\n",
      "  warnings.warn(message, FutureWarning)\n",
      "C:\\Users\\desh669\\AppData\\Local\\Continuum\\anaconda3\\lib\\site-packages\\sklearn\\utils\\deprecation.py:144: FutureWarning: The sklearn.metrics.classification module is  deprecated in version 0.22 and will be removed in version 0.24. The corresponding classes / functions should instead be imported from sklearn.metrics. Anything that cannot be imported from sklearn.metrics is now part of the private API.\n",
      "  warnings.warn(message, FutureWarning)\n"
     ]
    }
   ],
   "source": [
    "import pandas as pd\n",
    "import numpy as np\n",
    "import json\n",
    "from pandas.io.json import json_normalize\n",
    "from collections import Counter\n",
    "import scipy.sparse as sparse\n",
    "import matplotlib.pyplot as plt\n",
    "import seaborn as sns\n",
    "import json\n",
    "from collections import Counter\n",
    "from sklearn.model_selection import train_test_split\n",
    "from sklearn.preprocessing import StandardScaler\n",
    "from sklearn import metrics\n",
    "from sklearn.linear_model import LogisticRegression\n",
    "from sklearn import linear_model\n",
    "from scipy.sparse import csr_matrix, coo_matrix\n",
    "from imblearn.over_sampling import SMOTENC\n",
    "\n",
    "from imblearn.over_sampling import SMOTE\n",
    "from imblearn.under_sampling import RandomUnderSampler"
   ]
  },
  {
   "cell_type": "markdown",
   "metadata": {},
   "source": [
    "# Setting the working Directory"
   ]
  },
  {
   "cell_type": "code",
   "execution_count": 2,
   "metadata": {},
   "outputs": [
    {
     "name": "stdout",
     "output_type": "stream",
     "text": [
      "C:\\Users\\desh669\\OneDrive - PNNL\\Desktop\\Analytics_2\n"
     ]
    }
   ],
   "source": [
    "cd C:\\Users\\desh669\\OneDrive - PNNL\\Desktop\\Analytics_2"
   ]
  },
  {
   "cell_type": "markdown",
   "metadata": {},
   "source": [
    "# Loading json file in a dictionary format"
   ]
  },
  {
   "cell_type": "code",
   "execution_count": 3,
   "metadata": {},
   "outputs": [],
   "source": [
    "with open(\"dict_train.json\", \"r\") as read_file:\n",
    "    data = json.load(read_file)"
   ]
  },
  {
   "cell_type": "code",
   "execution_count": 4,
   "metadata": {},
   "outputs": [
    {
     "name": "stdout",
     "output_type": "stream",
     "text": [
      "data 6317199\n",
      "row_index 6317199\n",
      "column_index 6317199\n",
      "schema 106428\n",
      "shape 2\n",
      "labels 12536\n"
     ]
    }
   ],
   "source": [
    "### Printing names of keys and number of values each key contain\n",
    "for key, value in data.items():\n",
    "    print(key,len(value))"
   ]
  },
  {
   "cell_type": "code",
   "execution_count": 5,
   "metadata": {},
   "outputs": [
    {
     "data": {
      "text/plain": [
       "Counter({1: 1883, 0: 8678, 2: 771, 4: 512, 3: 692})"
      ]
     },
     "execution_count": 5,
     "metadata": {},
     "output_type": "execute_result"
    }
   ],
   "source": [
    "### Finding number of occurences of each label in our data \n",
    "Counter(data['labels'])\n",
    "### Looks like the data is imbalanced"
   ]
  },
  {
   "cell_type": "markdown",
   "metadata": {},
   "source": [
    "# Visualizing Data Imbalance"
   ]
  },
  {
   "cell_type": "code",
   "execution_count": 6,
   "metadata": {},
   "outputs": [
    {
     "data": {
      "text/plain": [
       "Text(0.5, 1.0, 'Severity of Attacks \\n (0 : least severe & 4 : Most severe)')"
      ]
     },
     "execution_count": 6,
     "metadata": {},
     "output_type": "execute_result"
    },
    {
     "data": {
      "image/png": "[encoded data removed]",
      "text/plain": [
       "<Figure size 1152x432 with 1 Axes>"
      ]
     },
     "metadata": {},
     "output_type": "display_data"
    }
   ],
   "source": [
    "### Now we will try to see this result graphically\n",
    "### pie chart of imbalanced data\n",
    "fig = plt.figure(figsize=(16,6))\n",
    "\n",
    "def make_autopct(values):\n",
    "    def my_autopct(pct):\n",
    "        total = sum(values)\n",
    "        val = int(round(pct*total/100.0))\n",
    "        return '{p:.1f}%  ({v:d})'.format(p=pct,v=val)\n",
    "    return my_autopct\n",
    "\n",
    "#plt.pie(values, labels=labels, autopct=make_autopct(values))\n",
    "plt.pie([float(v) for v in Counter(data['labels']).values()], labels=[int(k) for k in Counter(data['labels'])],\n",
    "           autopct=make_autopct([float(v) for v in Counter(data['labels']).values()]))\n",
    "plt.title('Severity of Attacks \\n (0 : least severe & 4 : Most severe)',fontsize = 18)\n",
    "#plt.savefig('Piechart.png')"
   ]
  },
  {
   "cell_type": "code",
   "execution_count": 7,
   "metadata": {},
   "outputs": [],
   "source": [
    "### Taking all the schemas in a list\n",
    "list_schema = [v for k,v in data.items() if k=='schema']"
   ]
  },
  {
   "cell_type": "code",
   "execution_count": 8,
   "metadata": {},
   "outputs": [
    {
     "name": "stdout",
     "output_type": "stream",
     "text": [
      "106428\n"
     ]
    }
   ],
   "source": [
    "### Flatenning the list\n",
    "flat_schema = []\n",
    "for i in range(106428):\n",
    "    flat_schema.append(list_schema[0][i])\n",
    "print(len(flat_schema))"
   ]
  },
  {
   "cell_type": "code",
   "execution_count": 9,
   "metadata": {},
   "outputs": [
    {
     "data": {
      "text/plain": [
       "Counter({0: 1111, 1: 28000, 2: 77317})"
      ]
     },
     "execution_count": 9,
     "metadata": {},
     "output_type": "execute_result"
    }
   ],
   "source": [
    "Counter([flat_schema[i].count(' ') for i in range(len(flat_schema))])"
   ]
  },
  {
   "cell_type": "code",
   "execution_count": 10,
   "metadata": {},
   "outputs": [
    {
     "name": "stdout",
     "output_type": "stream",
     "text": [
      "1111\n",
      "28000\n",
      "77317\n"
     ]
    }
   ],
   "source": [
    "main_effects,second_order_effects,third_order_effects = [],[],[]\n",
    "for i in flat_schema:\n",
    "    if i.count(' ') == 0:\n",
    "        main_effects.append(i)\n",
    "    if i.count(' ') == 1:\n",
    "        second_order_effects.append(i)\n",
    "    if i.count(' ') == 2:\n",
    "        third_order_effects.append(i)\n",
    "print(len(main_effects))\n",
    "print(len(second_order_effects))\n",
    "print(len(third_order_effects))"
   ]
  },
  {
   "cell_type": "code",
   "execution_count": 11,
   "metadata": {
    "scrolled": true
   },
   "outputs": [],
   "source": [
    "### Counting freq of every number present in our data\n",
    "distribution = Counter(data['data'])\n",
    "# distribution"
   ]
  },
  {
   "cell_type": "markdown",
   "metadata": {},
   "source": [
    "# Visualizing the frequnecy using Histograms"
   ]
  },
  {
   "cell_type": "code",
   "execution_count": 12,
   "metadata": {},
   "outputs": [
    {
     "data": {
      "image/png": "[encoded data removed]",
      "text/plain": [
       "<Figure size 2016x864 with 1 Axes>"
      ]
     },
     "metadata": {
      "needs_background": "light"
     },
     "output_type": "display_data"
    }
   ],
   "source": [
    "fig = plt.figure(figsize=(28,12))\n",
    "labels, values = zip(*Counter(data['data']).items())\n",
    "\n",
    "indexes = np.arange(len(labels))\n",
    "width = 0.8\n",
    "# print(indexes)\n",
    "# print(values)\n",
    "plt.bar(indexes, values, width)\n",
    "plt.ylim(0,10000)\n",
    "plt.xticks(indexes + width * 0.5, labels,fontsize = 16)\n",
    "plt.yticks(fontsize = 16)\n",
    "plt.title('Number of Cyber-Attacks on a system according to their Frequency',fontsize = 25)\n",
    "plt.xlabel('Number of times an attck tried to access the system',fontsize = 20)\n",
    "plt.ylabel('Frequency of Cyber-Attacks',fontsize = 20)\n",
    "#plt.savefig('Distribution_of_attacks.png')\n",
    "plt.show()"
   ]
  },
  {
   "cell_type": "code",
   "execution_count": 13,
   "metadata": {},
   "outputs": [],
   "source": [
    "### Creating an empty dataframe for populating \n",
    "###########################################\n",
    "# df = pd.DataFrame(data = 0,index=set(data['row_index']),columns=data['schema'],dtype = 'float16' )\n",
    "# print(df.shape)\n",
    "# df.head()"
   ]
  },
  {
   "cell_type": "code",
   "execution_count": 14,
   "metadata": {},
   "outputs": [],
   "source": [
    "### Slower way of making a dataframe from a dictionary (Json)\n",
    "###########################################################\n",
    "# for i,j,k in zip(data['row_index'],data['column_index'],data['data']):\n",
    "    \n",
    "#     #print(i,j,k)\n",
    "#     df.loc[i][j] = k\n",
    "#     #break"
   ]
  },
  {
   "cell_type": "code",
   "execution_count": 15,
   "metadata": {},
   "outputs": [
    {
     "data": {
      "text/plain": [
       "56"
      ]
     },
     "execution_count": 15,
     "metadata": {},
     "output_type": "execute_result"
    }
   ],
   "source": [
    "#### Number of unique values in our data\n",
    "len(set(k for k in data['data']))\n",
    "### There are 56 unique values in our dataset"
   ]
  },
  {
   "cell_type": "markdown",
   "metadata": {},
   "source": [
    "# Making a dictionary with key as (row_index,column_index) and value as data. (To Convert it later into a sprse matrix)"
   ]
  },
  {
   "cell_type": "code",
   "execution_count": 16,
   "metadata": {},
   "outputs": [
    {
     "name": "stderr",
     "output_type": "stream",
     "text": [
      "6317199it [00:09, 641206.33it/s]\n"
     ]
    }
   ],
   "source": [
    "import tqdm\n",
    "my_dict = {}\n",
    "for i,j,k in tqdm.tqdm(zip(data['row_index'],data['column_index'],data['data'])):\n",
    "    my_dict[(i,j)] = k\n",
    "    #print(my_dict)"
   ]
  },
  {
   "cell_type": "code",
   "execution_count": 17,
   "metadata": {},
   "outputs": [],
   "source": [
    "### This is for creating a sparse matrix from a dictionary created above\n",
    "\n",
    "def convert(term_dict):\n",
    "    # Create the appropriate format for the COO format.\n",
    "    data = []\n",
    "    row = []\n",
    "    col = []\n",
    "    \n",
    "    ## Now let us iterate through our dictionary.\n",
    "    for k, v in term_dict.items():\n",
    "        r = int(k[0])\n",
    "        c = int(k[1])\n",
    "        data.append(v)\n",
    "        row.append(r)\n",
    "        col.append(c)\n",
    "    \n",
    "    #print(len(data))\n",
    "    #print(len(row))\n",
    "    #print(len(col))\n",
    "    # Create the COO-matrix\n",
    "    coo = coo_matrix((data,(row,col)))\n",
    "    \n",
    "    # Let Scipy convert COO to CSR format and return\n",
    "    return csr_matrix(coo)"
   ]
  },
  {
   "cell_type": "code",
   "execution_count": 18,
   "metadata": {},
   "outputs": [
    {
     "name": "stdout",
     "output_type": "stream",
     "text": [
      "(12536, 106428)\n"
     ]
    },
    {
     "data": {
      "text/plain": [
       "scipy.sparse.csr.csr_matrix"
      ]
     },
     "execution_count": 18,
     "metadata": {},
     "output_type": "execute_result"
    }
   ],
   "source": [
    "matrix = convert(my_dict)\n",
    "### Let us check no of rows and col in our matrix\n",
    "print(matrix.shape)\n",
    "type(matrix)\n",
    "### There are in total 12536 rows and 106428 columns in our sparse matrix"
   ]
  },
  {
   "cell_type": "code",
   "execution_count": 19,
   "metadata": {},
   "outputs": [],
   "source": [
    "### This can be used to conver sparse matrix to dataframe (Consumes 5 GB of Memory)\n",
    "#df = pd.DataFrame(matrix.toarray())"
   ]
  },
  {
   "cell_type": "code",
   "execution_count": 20,
   "metadata": {},
   "outputs": [
    {
     "data": {
      "text/plain": [
       "<12536x1 sparse matrix of type '<class 'numpy.intc'>'\n",
       "\twith 3 stored elements in Compressed Sparse Row format>"
      ]
     },
     "execution_count": 20,
     "metadata": {},
     "output_type": "execute_result"
    }
   ],
   "source": [
    "### To check no of stored elements in ith column\n",
    "matrix[:,-1]"
   ]
  },
  {
   "cell_type": "code",
   "execution_count": 21,
   "metadata": {},
   "outputs": [],
   "source": [
    "### To get sum across columns\n",
    "a = matrix.sum(axis=1)"
   ]
  },
  {
   "cell_type": "code",
   "execution_count": 22,
   "metadata": {},
   "outputs": [],
   "source": [
    "### Find out which columns to keep \n",
    "# all_col_index = list(set(list(data['column_index'])))\n",
    "# len(all_col_index)"
   ]
  },
  {
   "cell_type": "code",
   "execution_count": 23,
   "metadata": {},
   "outputs": [],
   "source": [
    "### This function returns the missing elements in a sequence\n",
    "# def missing_elements(L):\n",
    "#     start, end = L[0], L[-1]\n",
    "#     return sorted(set(range(start, end + 1)).difference(L))"
   ]
  },
  {
   "cell_type": "code",
   "execution_count": 24,
   "metadata": {},
   "outputs": [],
   "source": [
    "### Returns the absent column index\n",
    "# len(missing_elements(all_col_index))"
   ]
  },
  {
   "cell_type": "markdown",
   "metadata": {},
   "source": [
    "# This creates a new sparse matrix with non empty columns only (Avoiding this step for now)"
   ]
  },
  {
   "cell_type": "code",
   "execution_count": 25,
   "metadata": {},
   "outputs": [],
   "source": [
    "# x_new = sparse.lil_matrix(sparse.csr_matrix(matrix)[:,all_col_index])\n",
    "\n",
    "# print(type(x_new))\n",
    "# x_new.shape"
   ]
  },
  {
   "cell_type": "markdown",
   "metadata": {},
   "source": [
    "# This normalizes the sparse matrix and stores it as a new sparse matrix"
   ]
  },
  {
   "cell_type": "code",
   "execution_count": 26,
   "metadata": {},
   "outputs": [
    {
     "data": {
      "text/plain": [
       "(12536, 106428)"
      ]
     },
     "execution_count": 26,
     "metadata": {},
     "output_type": "execute_result"
    }
   ],
   "source": [
    "from sklearn.preprocessing import normalize\n",
    "w_normalized = normalize(matrix, norm='l1', axis=1)\n",
    "w_normalized.shape"
   ]
  },
  {
   "cell_type": "markdown",
   "metadata": {},
   "source": [
    "# Handling Data Imbalance Method 1 - OverSampling"
   ]
  },
  {
   "cell_type": "code",
   "execution_count": 27,
   "metadata": {},
   "outputs": [
    {
     "name": "stderr",
     "output_type": "stream",
     "text": [
      "C:\\Users\\desh669\\AppData\\Local\\Continuum\\anaconda3\\lib\\site-packages\\sklearn\\utils\\deprecation.py:87: FutureWarning: Function safe_indexing is deprecated; safe_indexing is deprecated in version 0.22 and will be removed in version 0.24.\n",
      "  warnings.warn(msg, category=FutureWarning)\n"
     ]
    },
    {
     "name": "stdout",
     "output_type": "stream",
     "text": [
      "[(0, 8678), (1, 8678), (2, 8678), (3, 8678), (4, 8678)]\n"
     ]
    }
   ],
   "source": [
    "smote_nc = SMOTE(random_state=2)\n",
    "X_resampled, y_resampled = smote_nc.fit_resample(w_normalized, data['labels'])\n",
    "print(sorted(Counter(y_resampled).items()))"
   ]
  },
  {
   "cell_type": "markdown",
   "metadata": {},
   "source": [
    "# Spliting the balanced and Normalized data into training and testing"
   ]
  },
  {
   "cell_type": "code",
   "execution_count": 28,
   "metadata": {},
   "outputs": [],
   "source": [
    "train_x, test_x, train_labels, test_labels = train_test_split(X_resampled,y_resampled,\n",
    "                                                              test_size=0.3, \n",
    "                                                              random_state=123)"
   ]
  },
  {
   "cell_type": "code",
   "execution_count": 29,
   "metadata": {},
   "outputs": [
    {
     "name": "stdout",
     "output_type": "stream",
     "text": [
      "(13017, 1)\n",
      "(30373, 1)\n"
     ]
    }
   ],
   "source": [
    "### getting the splits into the proper formats\n",
    "test_labels = np.reshape(np.array(test_labels),(-1,1))\n",
    "train_labels = np.reshape(np.array(train_labels),(-1,1))\n",
    "print(test_labels.shape)\n",
    "print(train_labels.shape)"
   ]
  },
  {
   "cell_type": "code",
   "execution_count": 30,
   "metadata": {},
   "outputs": [],
   "source": [
    "#### This can be used to rescale the dataframe.\n",
    "\n",
    "# scaler = StandardScaler()\n",
    "# # Fit on training set only.\n",
    "\n",
    "# scaler.fit(train_x)\n",
    "# # Apply transform to both the training set and the test set.\n",
    "# train_x = scaler.transform(train_x)\n",
    "# test_x = scaler.transform(test_x)"
   ]
  },
  {
   "cell_type": "markdown",
   "metadata": {},
   "source": [
    "# Model 1 - Logistic Regression - Over Sampling"
   ]
  },
  {
   "cell_type": "code",
   "execution_count": 31,
   "metadata": {},
   "outputs": [
    {
     "name": "stderr",
     "output_type": "stream",
     "text": [
      "C:\\Users\\desh669\\AppData\\Local\\Continuum\\anaconda3\\lib\\site-packages\\sklearn\\utils\\validation.py:760: DataConversionWarning: A column-vector y was passed when a 1d array was expected. Please change the shape of y to (n_samples, ), for example using ravel().\n",
      "  y = column_or_1d(y, warn=True)\n"
     ]
    },
    {
     "name": "stdout",
     "output_type": "stream",
     "text": [
      "Accuracy: 0.72\n"
     ]
    }
   ],
   "source": [
    "model = LogisticRegression(solver = 'newton-cg')\n",
    "model.fit(train_x,train_labels)\n",
    "\n",
    "# use the model to make predictions with the test data\n",
    "y_pred_Logistic = model.predict(test_x)\n",
    "# how did our model perform?\n",
    "#count_misclassified = (test_labels != y_pred).sum()\n",
    "#print('Misclassified samples: {}'.format(count_misclassified))\n",
    "accuracy = metrics.accuracy_score(test_labels, y_pred_Logistic)\n",
    "print('Accuracy: {:.2f}'.format(accuracy))"
   ]
  },
  {
   "cell_type": "code",
   "execution_count": 32,
   "metadata": {},
   "outputs": [
    {
     "data": {
      "text/plain": [
       "array([[1303,   17,  185,  420,  576],\n",
       "       [  26, 2225,    6,   92,  232],\n",
       "       [ 284,    0, 1892,  119,  350],\n",
       "       [  76,    2,  102, 1971,  516],\n",
       "       [  99,   57,   68,  459, 1940]], dtype=int64)"
      ]
     },
     "execution_count": 32,
     "metadata": {},
     "output_type": "execute_result"
    }
   ],
   "source": [
    "from sklearn.metrics import confusion_matrix\n",
    "#y_actu = [2, 0, 2, 2, 0, 1, 1, 2, 2, 0, 1, 2]\n",
    "#y_pred = [0, 0, 2, 1, 0, 2, 1, 0, 2, 0, 2, 2]\n",
    "confusion_matrix(test_labels, y_pred_Logistic)"
   ]
  },
  {
   "cell_type": "markdown",
   "metadata": {},
   "source": [
    "# Model2  Decision Tree Classification - Over Sampling"
   ]
  },
  {
   "cell_type": "code",
   "execution_count": 33,
   "metadata": {},
   "outputs": [
    {
     "name": "stdout",
     "output_type": "stream",
     "text": [
      "Accuracy: 0.96\n"
     ]
    }
   ],
   "source": [
    "from sklearn.tree import DecisionTreeClassifier\n",
    "\n",
    "# Make a decision tree and train\n",
    "tree = DecisionTreeClassifier(random_state=223)\n",
    "tree.fit(train_x,train_labels)\n",
    "y_pred_Decision = tree.predict(test_x)\n",
    "# how did our model perform?\n",
    "#count_misclassified = (test_labels != y_pred).sum()\n",
    "#print('Misclassified samples: {}'.format(count_misclassified))\n",
    "accuracy = metrics.accuracy_score(test_labels, y_pred_Decision)\n",
    "print('Accuracy: {:.2f}'.format(accuracy))"
   ]
  },
  {
   "cell_type": "code",
   "execution_count": 34,
   "metadata": {},
   "outputs": [
    {
     "data": {
      "text/plain": [
       "array([[2269,   14,   76,   91,   51],\n",
       "       [  13, 2563,    0,    0,    5],\n",
       "       [  63,    2, 2556,   14,   10],\n",
       "       [  61,    0,    5, 2588,   13],\n",
       "       [  38,    4,   13,   15, 2553]], dtype=int64)"
      ]
     },
     "execution_count": 34,
     "metadata": {},
     "output_type": "execute_result"
    }
   ],
   "source": [
    "### Decision Trees \n",
    "from sklearn.metrics import confusion_matrix\n",
    "#y_actu = [2, 0, 2, 2, 0, 1, 1, 2, 2, 0, 1, 2]\n",
    "#y_pred = [0, 0, 2, 1, 0, 2, 1, 0, 2, 0, 2, 2]\n",
    "confusion_matrix(test_labels, y_pred_Decision)"
   ]
  },
  {
   "cell_type": "markdown",
   "metadata": {},
   "source": [
    "# Handling Data Imbalance Method 2 - UnderSampling"
   ]
  },
  {
   "cell_type": "code",
   "execution_count": 35,
   "metadata": {},
   "outputs": [
    {
     "name": "stderr",
     "output_type": "stream",
     "text": [
      "C:\\Users\\desh669\\AppData\\Local\\Continuum\\anaconda3\\lib\\site-packages\\sklearn\\utils\\deprecation.py:87: FutureWarning: Function safe_indexing is deprecated; safe_indexing is deprecated in version 0.22 and will be removed in version 0.24.\n",
      "  warnings.warn(msg, category=FutureWarning)\n"
     ]
    },
    {
     "name": "stdout",
     "output_type": "stream",
     "text": [
      "[(0, 512), (1, 512), (2, 512), (3, 512), (4, 512)]\n"
     ]
    }
   ],
   "source": [
    "undersampling = RandomUnderSampler(random_state=2)\n",
    "X_resampled, y_resampled = undersampling.fit_resample(w_normalized, data['labels'])\n",
    "print(sorted(Counter(y_resampled).items()))"
   ]
  },
  {
   "cell_type": "code",
   "execution_count": 36,
   "metadata": {},
   "outputs": [
    {
     "name": "stdout",
     "output_type": "stream",
     "text": [
      "(768, 1)\n",
      "(1792, 1)\n"
     ]
    }
   ],
   "source": [
    "train_x, test_x, train_labels, test_labels = train_test_split(X_resampled,y_resampled,\n",
    "                                                              test_size=0.3, \n",
    "                                                              random_state=123)\n",
    "### getting the splits into the proper formats\n",
    "test_labels = np.reshape(np.array(test_labels),(-1,1))\n",
    "train_labels = np.reshape(np.array(train_labels),(-1,1))\n",
    "print(test_labels.shape)\n",
    "print(train_labels.shape)"
   ]
  },
  {
   "cell_type": "markdown",
   "metadata": {},
   "source": [
    "# Model 1 Logistic Regression - UnderSampling"
   ]
  },
  {
   "cell_type": "code",
   "execution_count": 37,
   "metadata": {},
   "outputs": [
    {
     "name": "stderr",
     "output_type": "stream",
     "text": [
      "C:\\Users\\desh669\\AppData\\Local\\Continuum\\anaconda3\\lib\\site-packages\\sklearn\\utils\\validation.py:760: DataConversionWarning: A column-vector y was passed when a 1d array was expected. Please change the shape of y to (n_samples, ), for example using ravel().\n",
      "  y = column_or_1d(y, warn=True)\n"
     ]
    },
    {
     "name": "stdout",
     "output_type": "stream",
     "text": [
      "Accuracy: 0.55\n"
     ]
    },
    {
     "data": {
      "text/plain": [
       "array([[ 73,  16,  23,   0,  26],\n",
       "       [  8, 128,   1,   0,  14],\n",
       "       [ 17,   3, 122,   0,  17],\n",
       "       [ 54,  44,  18,   8,  37],\n",
       "       [ 25,  31,  10,   1,  92]], dtype=int64)"
      ]
     },
     "execution_count": 37,
     "metadata": {},
     "output_type": "execute_result"
    }
   ],
   "source": [
    "model = LogisticRegression(solver = 'newton-cg')\n",
    "model.fit(train_x,train_labels)\n",
    "\n",
    "# use the model to make predictions with the test data\n",
    "y_pred_Logistic = model.predict(test_x)\n",
    "# how did our model perform?\n",
    "#count_misclassified = (test_labels != y_pred).sum()\n",
    "#print('Misclassified samples: {}'.format(count_misclassified))\n",
    "accuracy = metrics.accuracy_score(test_labels, y_pred_Logistic)\n",
    "print('Accuracy: {:.2f}'.format(accuracy))\n",
    "\n",
    "#y_actu = [2, 0, 2, 2, 0, 1, 1, 2, 2, 0, 1, 2]\n",
    "#y_pred = [0, 0, 2, 1, 0, 2, 1, 0, 2, 0, 2, 2]\n",
    "confusion_matrix(test_labels, y_pred_Logistic)"
   ]
  },
  {
   "cell_type": "markdown",
   "metadata": {},
   "source": [
    "# Model 2 Decision Tree Classification - Under Sampling"
   ]
  },
  {
   "cell_type": "code",
   "execution_count": 38,
   "metadata": {},
   "outputs": [
    {
     "name": "stdout",
     "output_type": "stream",
     "text": [
      "Accuracy: 0.80\n"
     ]
    },
    {
     "data": {
      "text/plain": [
       "array([[ 97,   1,  18,  11,  11],\n",
       "       [  3, 146,   0,   1,   1],\n",
       "       [ 15,   1, 134,   6,   3],\n",
       "       [ 15,   2,   5, 125,  14],\n",
       "       [ 12,   0,   7,  27, 113]], dtype=int64)"
      ]
     },
     "execution_count": 38,
     "metadata": {},
     "output_type": "execute_result"
    }
   ],
   "source": [
    "# Make a decision tree and train\n",
    "tree = DecisionTreeClassifier(random_state=223)\n",
    "tree.fit(train_x,train_labels)\n",
    "y_pred_Decision = tree.predict(test_x)\n",
    "# how did our model perform?\n",
    "#count_misclassified = (test_labels != y_pred).sum()\n",
    "#print('Misclassified samples: {}'.format(count_misclassified))\n",
    "accuracy = metrics.accuracy_score(test_labels, y_pred_Decision)\n",
    "print('Accuracy: {:.2f}'.format(accuracy))\n",
    "\n",
    "### Decision Trees \n",
    "from sklearn.metrics import confusion_matrix\n",
    "#y_actu = [2, 0, 2, 2, 0, 1, 1, 2, 2, 0, 1, 2]\n",
    "#y_pred = [0, 0, 2, 1, 0, 2, 1, 0, 2, 0, 2, 2]\n",
    "confusion_matrix(test_labels, y_pred_Decision)"
   ]
  },
  {
   "cell_type": "code",
   "execution_count": 39,
   "metadata": {},
   "outputs": [],
   "source": [
    "### Adding labels column to our sparse matrix.\n",
    "# Data = sparse.hstack((x_new,np.array(data['labels'])[:,None])).A\n",
    "# Data.shape"
   ]
  },
  {
   "cell_type": "code",
   "execution_count": 40,
   "metadata": {},
   "outputs": [],
   "source": [
    "#Data[:,-1]"
   ]
  },
  {
   "cell_type": "markdown",
   "metadata": {},
   "source": [
    "# Predictions on Unseen Dataset"
   ]
  },
  {
   "cell_type": "code",
   "execution_count": 41,
   "metadata": {},
   "outputs": [
    {
     "name": "stdout",
     "output_type": "stream",
     "text": [
      "data 1744196\n",
      "row_index 1744196\n",
      "column_index 1744196\n",
      "schema 106428\n",
      "shape 2\n"
     ]
    }
   ],
   "source": [
    "with open(\"test_data.json\", \"r\") as read_file:\n",
    "    test_data = json.load(read_file)\n",
    "\n",
    "for key, value in test_data.items():\n",
    "    print(key,len(value))"
   ]
  },
  {
   "cell_type": "code",
   "execution_count": 42,
   "metadata": {},
   "outputs": [
    {
     "data": {
      "text/plain": [
       "3133"
      ]
     },
     "execution_count": 42,
     "metadata": {},
     "output_type": "execute_result"
    }
   ],
   "source": [
    "len(list(set(list(test_data['row_index']))))"
   ]
  },
  {
   "cell_type": "code",
   "execution_count": 43,
   "metadata": {},
   "outputs": [
    {
     "name": "stderr",
     "output_type": "stream",
     "text": [
      "1744196it [00:02, 643580.33it/s]\n"
     ]
    }
   ],
   "source": [
    "my_test_dict = {}\n",
    "for i,j,k in tqdm.tqdm(zip(test_data['row_index'],test_data['column_index'],test_data['data'])):\n",
    "    my_test_dict[(i,j)] = k\n",
    "    #print(my_dict)"
   ]
  },
  {
   "cell_type": "code",
   "execution_count": 44,
   "metadata": {},
   "outputs": [
    {
     "name": "stdout",
     "output_type": "stream",
     "text": [
      "(3133, 106428)\n"
     ]
    },
    {
     "data": {
      "text/plain": [
       "scipy.sparse.csr.csr_matrix"
      ]
     },
     "execution_count": 44,
     "metadata": {},
     "output_type": "execute_result"
    }
   ],
   "source": [
    "test_matrix = convert(my_test_dict)\n",
    "### Let us check no of rows and col in our matrix\n",
    "print(test_matrix.shape)\n",
    "type(test_matrix)\n",
    "### There are in total 12536 rows and 106428 columns in our sparse matrix"
   ]
  },
  {
   "cell_type": "code",
   "execution_count": 45,
   "metadata": {},
   "outputs": [
    {
     "data": {
      "text/plain": [
       "(3133, 106428)"
      ]
     },
     "execution_count": 45,
     "metadata": {},
     "output_type": "execute_result"
    }
   ],
   "source": [
    "from sklearn.preprocessing import normalize\n",
    "w_normalized_test = normalize(test_matrix, norm='l1', axis=1)\n",
    "w_normalized_test.shape"
   ]
  },
  {
   "cell_type": "code",
   "execution_count": 46,
   "metadata": {},
   "outputs": [
    {
     "data": {
      "text/plain": [
       "(3133, 106428)"
      ]
     },
     "execution_count": 46,
     "metadata": {},
     "output_type": "execute_result"
    }
   ],
   "source": [
    "w_normalized_test.shape"
   ]
  },
  {
   "cell_type": "code",
   "execution_count": 47,
   "metadata": {},
   "outputs": [
    {
     "data": {
      "text/plain": [
       "(12536, 106428)"
      ]
     },
     "execution_count": 47,
     "metadata": {},
     "output_type": "execute_result"
    }
   ],
   "source": [
    "w_normalized.shape"
   ]
  },
  {
   "cell_type": "code",
   "execution_count": 48,
   "metadata": {},
   "outputs": [
    {
     "name": "stderr",
     "output_type": "stream",
     "text": [
      "C:\\Users\\desh669\\AppData\\Local\\Continuum\\anaconda3\\lib\\site-packages\\sklearn\\utils\\deprecation.py:87: FutureWarning: Function safe_indexing is deprecated; safe_indexing is deprecated in version 0.22 and will be removed in version 0.24.\n",
      "  warnings.warn(msg, category=FutureWarning)\n"
     ]
    },
    {
     "name": "stdout",
     "output_type": "stream",
     "text": [
      "[(0, 8678), (1, 8678), (2, 8678), (3, 8678), (4, 8678)]\n"
     ]
    }
   ],
   "source": [
    "smote_nc = SMOTE(random_state=2)\n",
    "X_resampled, y_resampled = smote_nc.fit_resample(w_normalized, data['labels'])\n",
    "print(sorted(Counter(y_resampled).items()))"
   ]
  },
  {
   "cell_type": "code",
   "execution_count": 49,
   "metadata": {},
   "outputs": [],
   "source": [
    "from sklearn.tree import DecisionTreeClassifier\n",
    "\n",
    "# Make a decision tree and train\n",
    "tree = DecisionTreeClassifier(random_state=223)\n",
    "tree.fit(X_resampled,y_resampled)\n",
    "y_pred_Decision_test = tree.predict(w_normalized_test)"
   ]
  },
  {
   "cell_type": "code",
   "execution_count": 50,
   "metadata": {},
   "outputs": [
    {
     "data": {
      "text/plain": [
       "(3133,)"
      ]
     },
     "execution_count": 50,
     "metadata": {},
     "output_type": "execute_result"
    }
   ],
   "source": [
    "y_pred_Decision_test.shape"
   ]
  },
  {
   "cell_type": "code",
   "execution_count": 51,
   "metadata": {},
   "outputs": [],
   "source": [
    "#np.savetxt(\"predictions1.csv\", y_pred_Decision_test, delimiter=\",\")"
   ]
  },
  {
   "cell_type": "code",
   "execution_count": null,
   "metadata": {},
   "outputs": [],
   "source": []
  }
 ],
 "metadata": {
  "kernelspec": {
   "display_name": "Python 3",
   "language": "python",
   "name": "python3"
  },
  "language_info": {
   "codemirror_mode": {
    "name": "ipython",
    "version": 3
   },
   "file_extension": ".py",
   "mimetype": "text/x-python",
   "name": "python",
   "nbconvert_exporter": "python",
   "pygments_lexer": "ipython3",
   "version": "3.7.3"
  }
 },
 "nbformat": 4,
 "nbformat_minor": 2
}
